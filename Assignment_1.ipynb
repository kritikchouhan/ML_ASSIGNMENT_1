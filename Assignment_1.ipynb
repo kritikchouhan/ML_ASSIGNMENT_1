{
 "cells": [
  {
   "cell_type": "code",
   "execution_count": 3,
   "metadata": {},
   "outputs": [
    {
     "name": "stdout",
     "output_type": "stream",
     "text": [
      "<class 'tuple'>\n",
      "9\n",
      "124\n",
      "26\n",
      "1\n"
     ]
    }
   ],
   "source": [
    "#Ques.2\n",
    "a=(25,26,1,23,23,2,8,9,7)\n",
    "print(type(a))\n",
    "print(len(a))\n",
    "print(sum(a))\n",
    "print(max(a))\n",
    "print(min(a))"
   ]
  },
  {
   "cell_type": "code",
   "execution_count": 5,
   "metadata": {},
   "outputs": [
    {
     "name": "stdout",
     "output_type": "stream",
     "text": [
      "Enter a number:13\n",
      "Enter a bit:2\n",
      "9\n",
      "<class 'int'>\n"
     ]
    }
   ],
   "source": [
    "#Ques.3\n",
    "a=int(input(\"Enter a number:\"))\n",
    "i=int(input(\"Enter a bit:\"))\n",
    "num=1<<i\n",
    "result=a^num\n",
    "print(result)\n",
    "print(type(result))"
   ]
  },
  {
   "cell_type": "code",
   "execution_count": null,
   "metadata": {},
   "outputs": [],
   "source": [
    "#Ques.4\n",
    "num=int(input(\"Enter a number:\"))\n",
    "print([num%2])\n",
    "print(type(num))"
   ]
  },
  {
   "cell_type": "code",
   "execution_count": null,
   "metadata": {},
   "outputs": [],
   "source": [
    "#Ques.1\n",
    "S_I=input()\n",
    "print(\"sample input=\"+str(S_I))\n",
    "O_L=\"output=\"+str(set(S_I))\n",
    "output=print(O_L)"
   ]
  },
  {
   "cell_type": "code",
   "execution_count": 15,
   "metadata": {},
   "outputs": [
    {
     "name": "stdout",
     "output_type": "stream",
     "text": [
      "['0', '2', '6', '5', '7', '8', '3', '1', '4']\n",
      "['0', '1', '2', '3', '4', '5', '6', '7', '8']\n",
      "<class 'list'>\n",
      "<class 'list'>\n"
     ]
    }
   ],
   "source": [
    "#Ques.5\n",
    "A=['0','2','6','5','7']\n",
    "B=['8','3','1','4']\n",
    "c=A+B\n",
    "print(c)\n",
    "c.sort()\n",
    "print(c)\n",
    "print(type(A))\n",
    "print(type(B))"
   ]
  },
  {
   "cell_type": "code",
   "execution_count": null,
   "metadata": {},
   "outputs": [],
   "source": []
  },
  {
   "cell_type": "code",
   "execution_count": null,
   "metadata": {},
   "outputs": [],
   "source": []
  }
 ],
 "metadata": {
  "kernelspec": {
   "display_name": "Python 3",
   "language": "python",
   "name": "python3"
  },
  "language_info": {
   "codemirror_mode": {
    "name": "ipython",
    "version": 3
   },
   "file_extension": ".py",
   "mimetype": "text/x-python",
   "name": "python",
   "nbconvert_exporter": "python",
   "pygments_lexer": "ipython3",
   "version": "3.8.2"
  }
 },
 "nbformat": 4,
 "nbformat_minor": 4
}
